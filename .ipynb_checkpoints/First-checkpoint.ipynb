{
 "cells": [
  {
   "cell_type": "code",
   "execution_count": 1,
   "id": "10330388",
   "metadata": {},
   "outputs": [
    {
     "name": "stdout",
     "output_type": "stream",
     "text": [
      "Hello World\n"
     ]
    }
   ],
   "source": [
    "print(\"Hello World\")"
   ]
  },
  {
   "cell_type": "code",
   "execution_count": 1,
   "id": "117d78cf",
   "metadata": {},
   "outputs": [
    {
     "name": "stdout",
     "output_type": "stream",
     "text": [
      "10\n"
     ]
    }
   ],
   "source": [
    "a = 10\n",
    "print(a)"
   ]
  },
  {
   "cell_type": "code",
   "execution_count": 1,
   "id": "3178239e",
   "metadata": {},
   "outputs": [
    {
     "name": "stdout",
     "output_type": "stream",
     "text": [
      "15\n"
     ]
    }
   ],
   "source": [
    "a = 10\n",
    "b = 5\n",
    "print(a+b)"
   ]
  },
  {
   "cell_type": "markdown",
   "id": "d660863a",
   "metadata": {},
   "source": [
    "# hello people\n",
    "# This is a mardown cell\n",
    "idek\n",
    "- a\n",
    "- b\n",
    "- c"
   ]
  },
  {
   "cell_type": "markdown",
   "id": "eb76935d",
   "metadata": {},
   "source": [
    "a = 10;\n",
    "b = 5;\n",
    "print(a-b);"
   ]
  },
  {
   "cell_type": "code",
   "execution_count": 7,
   "id": "b928d13a",
   "metadata": {},
   "outputs": [],
   "source": [
    "import os"
   ]
  },
  {
   "cell_type": "code",
   "execution_count": 8,
   "id": "e4680ae7",
   "metadata": {},
   "outputs": [
    {
     "name": "stdout",
     "output_type": "stream",
     "text": [
      "['.ipynb_checkpoints', 'First.ipynb', 'HelloWorld.py']\n"
     ]
    }
   ],
   "source": [
    "print(os.listdir())"
   ]
  },
  {
   "cell_type": "code",
   "execution_count": 10,
   "id": "6bc4308b",
   "metadata": {},
   "outputs": [
    {
     "name": "stdout",
     "output_type": "stream",
     "text": [
      "<class 'int'>\n"
     ]
    }
   ],
   "source": [
    "a = 10;\n",
    "print(type(a));"
   ]
  },
  {
   "cell_type": "code",
   "execution_count": 14,
   "id": "40a5a05a",
   "metadata": {},
   "outputs": [
    {
     "name": "stdout",
     "output_type": "stream",
     "text": [
      "Enter name: suraj\n",
      "Your name is suraj\n"
     ]
    }
   ],
   "source": [
    "a = input(\"Enter name: \")\n",
    "print(\"Your name is \" + a)"
   ]
  },
  {
   "cell_type": "code",
   "execution_count": 19,
   "id": "79530a44",
   "metadata": {},
   "outputs": [
    {
     "name": "stdout",
     "output_type": "stream",
     "text": [
      "Enter Anything: 12\n",
      "<class 'int'>\n"
     ]
    }
   ],
   "source": [
    "a = input(\"Enter Anything: \");\n",
    "a = int(a);\n",
    "print(type(a));\n",
    "print(\"The type of the variable is \" + type(a));"
   ]
  },
  {
   "cell_type": "code",
   "execution_count": 26,
   "id": "0d98c6a5",
   "metadata": {},
   "outputs": [
    {
     "name": "stdout",
     "output_type": "stream",
     "text": [
      "Enter a number: 30\n",
      "Enter a number: 10\n",
      "The type of a is  <class 'int'>\n",
      "30 is greater than 10\n"
     ]
    }
   ],
   "source": [
    "a = int(input(\"Enter a number: \"));\n",
    "b = int(input(\"Enter a number: \"));\n",
    "print(\"The type of a is \", type(a));\n",
    "if (a > b): print(a, \"is greater than\", b);\n",
    "elif(a < b): print(b, \"is greater than\", a);\n",
    "else: print(\"Both\", a,  \"&\", b, \"are equal\");"
   ]
  },
  {
   "cell_type": "code",
   "execution_count": 46,
   "id": "14b2e011",
   "metadata": {},
   "outputs": [
    {
     "name": "stdout",
     "output_type": "stream",
     "text": [
      "sur\n",
      "srj\n",
      "5\n",
      "True\n",
      "1\n",
      "Suraj\n",
      "3\n",
      "sooraj\n"
     ]
    }
   ],
   "source": [
    "st = \"suraj\";\n",
    "print(st[0 : 3]);\n",
    "print(st[0 : 5 : 2]);\n",
    "print(len(st));\n",
    "print(st.endswith(\"raj\"));\n",
    "print(st.count(\"a\"));\n",
    "print(st.capitalize());\n",
    "print(st.find(\"a\"));\n",
    "print(st.replace(\"u\", \"oo\"));"
   ]
  },
  {
   "cell_type": "code",
   "execution_count": 48,
   "id": "f36cd35d",
   "metadata": {},
   "outputs": [
    {
     "name": "stdout",
     "output_type": "stream",
     "text": [
      "Enter a name: Suraj\n",
      "Suraj Good Afternoon\n"
     ]
    }
   ],
   "source": [
    "print(input(\"Enter a name: \"), \"Good Afternoon\");"
   ]
  },
  {
   "cell_type": "code",
   "execution_count": 57,
   "id": "e6e80f1e",
   "metadata": {},
   "outputs": [
    {
     "name": "stdout",
     "output_type": "stream",
     "text": [
      "Enter the name: Suraj\n",
      "Enter the date: 30 Feb 2022\n",
      "Dear Suraj,\n",
      "You are selected\n",
      "30 Feb 2022\n",
      "\n"
     ]
    }
   ],
   "source": [
    "letter = '''Dear <|Name|>,\n",
    "You are selected\n",
    "<|Date|>\n",
    "'''\n",
    "name = input(\"Enter the name: \")\n",
    "date = input(\"Enter the date: \")\n",
    "letter = letter.replace(\"<|Name|>\", name)\n",
    "letter = letter.replace(\"<|Date|>\", date)\n",
    "print(letter)\n",
    "\n",
    "# letter = '''Dear <|NAME|>,\n",
    "# Greetings from ABC coding house. I am happy to tell you about your selection\n",
    "# You are selected!\n",
    "# Have a great day ahead!\n",
    "# Thanks and regards,\n",
    "# Bill\n",
    "# Date: <|DATE|>\n",
    "# '''\n",
    "# name = input(\"Enter Your Name\\n\")\n",
    "# date = input(\"Enter Date\\n\")\n",
    "# letter = letter.replace(\"<|NAME|>\", name)\n",
    "# letter = letter.replace(\"<|DATE|>\", date)\n",
    "# print(letter)"
   ]
  },
  {
   "cell_type": "code",
   "execution_count": 58,
   "id": "88fa70ab",
   "metadata": {},
   "outputs": [
    {
     "name": "stdout",
     "output_type": "stream",
     "text": [
      "Harry is good.\n",
      "He\tis ve\\ry good\n"
     ]
    }
   ],
   "source": [
    "story = \"Harry is good.\\nHe\\tis ve\\\\ry good\"\n",
    "print(story)"
   ]
  },
  {
   "cell_type": "code",
   "execution_count": null,
   "id": "f7c809c4",
   "metadata": {},
   "outputs": [],
   "source": [
    "fruits = [a, b, c, d, e, f, g];\n",
    "a = input(\"First: \");\n",
    "b = input(\"Second: \");\n",
    "c = input(\"Third: \");\n",
    "d = input(\"Fourth: \");\n",
    "e = input(\"Fifth: \");\n",
    "f = input(\"Sixth: \");\n",
    "g = input(\"Seventh: \");\n",
    "fruits.replace(a) = "
   ]
  },
  {
   "cell_type": "code",
   "execution_count": 3,
   "id": "813065b2",
   "metadata": {},
   "outputs": [
    {
     "name": "stdout",
     "output_type": "stream",
     "text": [
      "Enter the marks of six students: \n",
      "9\n",
      "8\n",
      "7\n",
      "6\n",
      "5\n",
      "4\n",
      "[4, 5, 6, 7, 8, 9]\n"
     ]
    }
   ],
   "source": [
    "print(\"Enter the marks of six students: \");\n",
    "a = int(input());\n",
    "b = int(input());\n",
    "c = int(input());\n",
    "d = int(input());\n",
    "e = int(input());\n",
    "f = int(input());\n",
    "student = [a, b, c, d, e, f];\n",
    "student.sort()\n",
    "print(student);"
   ]
  },
  {
   "cell_type": "code",
   "execution_count": 1,
   "id": "ff8c28bc",
   "metadata": {},
   "outputs": [
    {
     "name": "stdout",
     "output_type": "stream",
     "text": [
      "Player\n",
      "['name', 'age', 'branch', 'marks', 'anotherdict']\n",
      "dict_values(['suraj', 19, 'comps', [1, 2, 3, 4], {'type': 'Player'}])\n",
      "Player\n",
      "{'name': 'suraj', 'age': 19, 'branch': 'comps', 'marks': [1, 2, 3, 4], 'anotherdict': {'type': 'Player'}}\n",
      "comps\n",
      "{'name': 'suraj', 'age': 19, 'branch': 'comps', 'marks': [1, 2, 3, 4], 'anotherdict': {'type': 'Player'}, 'occupation': 'student', 'education': 'BE', 'degree': 'CE'}\n"
     ]
    }
   ],
   "source": [
    "a = {\n",
    "    \"name\": \"suraj\",\n",
    "    \"age\": 19,\n",
    "    \"branch\": \"comps\",\n",
    "    \"marks\": [1, 2, 3, 4],\n",
    "    \"anotherdict\": {'type': 'Player'},\n",
    "}\n",
    "print(a[\"anotherdict\"][\"type\"]);\n",
    "print(list(a.keys()));\n",
    "print(a.values());\n",
    "print(a['anotherdict']['type']);\n",
    "print(a);\n",
    "print(a.get(\"branch\"));\n",
    "b = {\n",
    "    \"occupation\": \"student\",\n",
    "    \"education\": \"BE\",\n",
    "    \"degree\": \"CE\"\n",
    "}\n",
    "a.update(b);\n",
    "print(a);"
   ]
  },
  {
   "cell_type": "code",
   "execution_count": 38,
   "id": "6811ddaf",
   "metadata": {},
   "outputs": [
    {
     "name": "stdout",
     "output_type": "stream",
     "text": [
      "<class 'set'>\n",
      "<class 'dict'>\n",
      "<class 'set'>\n"
     ]
    }
   ],
   "source": [
    "a = {1, 2, 3, 4};\n",
    "print(type(a));\n",
    "b = {};\n",
    "print(type(b));\n",
    "c = set();\n",
    "print(type(c));"
   ]
  },
  {
   "cell_type": "code",
   "execution_count": 67,
   "id": "581353aa",
   "metadata": {},
   "outputs": [
    {
     "name": "stdout",
     "output_type": "stream",
     "text": [
      "<class 'set'>\n",
      "{1, 2, 3, 4}\n",
      "4\n",
      "{1, 2, 3, 4, (5, 6, 7, 8)}\n",
      "5\n",
      "{1, 3, 4, (5, 6, 7, 8)}\n",
      "{3, 4, (5, 6, 7, 8)}\n"
     ]
    }
   ],
   "source": [
    "b = set();\n",
    "print(type(b));\n",
    "b.add(1);\n",
    "b.add(2);\n",
    "b.add(3);\n",
    "b.add(4);\n",
    "print(b);\n",
    "print(len(b));\n",
    "b.add((5, 6, 7, 8));\n",
    "print(b);\n",
    "print(len(b));\n",
    "b.remove(2);\n",
    "print(b);\n",
    "b.pop();\n",
    "print(b);"
   ]
  },
  {
   "cell_type": "code",
   "execution_count": 4,
   "id": "7d86b699",
   "metadata": {},
   "outputs": [
    {
     "name": "stdout",
     "output_type": "stream",
     "text": [
      "Options are:  dict_keys(['name', 'age', 'education'])\n",
      "Enter the Hindi Word: name\n",
      "Hindi Translation:  naam\n"
     ]
    }
   ],
   "source": [
    "translation = {\n",
    "    \"name\": \"naam\",\n",
    "    \"age\": \"aayu\",\n",
    "    \"education\": \"shiksha\"\n",
    "}\n",
    "print(\"Options are: \", translation.keys());\n",
    "a = input(\"Enter the Hindi Word: \");\n",
    "print(\"Hindi Translation: \", translation.get(a));"
   ]
  },
  {
   "cell_type": "code",
   "execution_count": 12,
   "id": "95a4a4e0",
   "metadata": {},
   "outputs": [
    {
     "name": "stdout",
     "output_type": "stream",
     "text": [
      "1\n",
      "2\n",
      "3\n",
      "4\n",
      "5\n",
      "6\n",
      "7\n",
      "8\n",
      "<class 'list'>\n",
      "[1, 2, 3, 4, 5, 6, 7, 8]\n",
      "<class 'tuple'>\n",
      "(1, 2, 3, 4, 5, 6, 7, 8)\n",
      "<class 'set'>\n",
      "{1, 2, 3, 4, 5, 6, 7, 8}\n"
     ]
    }
   ],
   "source": [
    "a = int(input());\n",
    "b = int(input());\n",
    "c = int(input());\n",
    "d = int(input());\n",
    "e = int(input());\n",
    "f = int(input());\n",
    "g = int(input());\n",
    "h = int(input());\n",
    "list1 = [a, b, c, d, e, f, g, h];\n",
    "print(type(list1));\n",
    "print(list1);\n",
    "tuple1 = (a, b, c, d, e, f, g, h);\n",
    "print(type(tuple1));\n",
    "print(tuple1);\n",
    "set1 = {a, b, c, d, e, f, g, h};\n",
    "print(type(set1));\n",
    "print(set1);"
   ]
  },
  {
   "cell_type": "code",
   "execution_count": null,
   "id": "4d32cda5",
   "metadata": {},
   "outputs": [],
   "source": [
    "s = set();\n",
    "s.add(20);\n",
    "s.add(20.0);\n",
    "s.add(\"20\");\n",
    "print(s);\n",
    "print(len(s));"
   ]
  },
  {
   "cell_type": "code",
   "execution_count": null,
   "id": "d2d9e937",
   "metadata": {},
   "outputs": [],
   "source": [
    "a = int(input(\"Enter first no: \"));\n",
    "b = int(input());\n",
    "c = int(input());\n",
    "d = int(input());\n",
    "if(a > b):\n",
    "    if(a > c):\n",
    "        if(a > d):\n",
    "            print(a, \"is greatest\")\n",
    "        else:\n",
    "            print(d, \"is greatest\")\n",
    "    else:\n",
    "        if(c > d):\n",
    "            print(c, \"is greatest\")\n",
    "        else:\n",
    "            print(d, \"is greatest\")\n",
    "else:\n",
    "    if(b > c):\n",
    "        if(b > d):\n",
    "            print(b, \"is greatest\")\n",
    "        else:\n",
    "            print(d, \"is greatest\")\n",
    "    else:\n",
    "        if(c > d):\n",
    "            print(c, \"is greatest\")\n",
    "        else:\n",
    "            print(d, \"is greatest\")"
   ]
  },
  {
   "cell_type": "code",
   "execution_count": 4,
   "id": "50c45b4f",
   "metadata": {},
   "outputs": [
    {
     "name": "stdout",
     "output_type": "stream",
     "text": [
      "more than 10\n"
     ]
    }
   ],
   "source": [
    "username = \"raghuramrajan\";\n",
    "a = len(username);\n",
    "if(a < 10):\n",
    "    print(\"less than 10\")\n",
    "else:\n",
    "    print(\"more than 10\")"
   ]
  },
  {
   "cell_type": "code",
   "execution_count": 7,
   "id": "3d5106db",
   "metadata": {},
   "outputs": [
    {
     "name": "stdout",
     "output_type": "stream",
     "text": [
      "6\n",
      "7\n",
      "8\n",
      "9\n",
      "10\n"
     ]
    }
   ],
   "source": [
    "list2 = [6, 7, 8, 9, 10];\n",
    "i = 0;\n",
    "while (i < 5):\n",
    "    print(list2[i]);\n",
    "    i = i + 1;"
   ]
  },
  {
   "cell_type": "code",
   "execution_count": 14,
   "id": "1a1349ff",
   "metadata": {},
   "outputs": [
    {
     "name": "stdout",
     "output_type": "stream",
     "text": [
      "No\n",
      "7\n",
      "8\n",
      "9\n",
      "10\n",
      "done\n",
      "0\n",
      "2\n",
      "4\n",
      "6\n"
     ]
    }
   ],
   "source": [
    "dict2 = {\"a\", \"b\", \"c\", \"d\"};\n",
    "if \"g\" in dict2:\n",
    "    print(\"yes\");\n",
    "else:\n",
    "    print(\"No\");\n",
    "    \n",
    "list2 = [7, 8, 9, 10];\n",
    "for item in list2:\n",
    "    print(item);\n",
    "else:\n",
    "    print(\"done\")\n",
    "for item in range(0, 7, 2):\n",
    "    print(item);\n"
   ]
  },
  {
   "cell_type": "code",
   "execution_count": 4,
   "id": "ecede9e8",
   "metadata": {},
   "outputs": [
    {
     "name": "stdout",
     "output_type": "stream",
     "text": [
      "5 x 10 = 50\n",
      "5 x 9 = 45\n",
      "5 x 8 = 40\n",
      "5 x 7 = 35\n",
      "5 x 6 = 30\n",
      "5 x 5 = 25\n",
      "5 x 4 = 20\n",
      "5 x 3 = 15\n",
      "5 x 2 = 10\n"
     ]
    }
   ],
   "source": [
    "i = 10;\n",
    "while (i > 1):\n",
    "    print(\"5 x\", i, \"=\", 5 * i);\n",
    "    i = i - 1;\n",
    "    "
   ]
  },
  {
   "cell_type": "code",
   "execution_count": 24,
   "id": "dbd11883",
   "metadata": {},
   "outputs": [
    {
     "name": "stdout",
     "output_type": "stream",
     "text": [
      "Hello Soham\n",
      "Hello Sachin\n"
     ]
    }
   ],
   "source": [
    "l1 = [\"Harry\", \"Soham\", \"Sachin\", \"RahSl\"];\n",
    "for x in l1:\n",
    "    if \"S\" in x[0]:\n",
    "        print(\"Hello \" + x);\n",
    "    else:\n",
    "        continue;"
   ]
  },
  {
   "cell_type": "code",
   "execution_count": 1,
   "id": "ce65d558",
   "metadata": {},
   "outputs": [
    {
     "name": "stdout",
     "output_type": "stream",
     "text": [
      "20\n",
      "20 is not prime\n"
     ]
    }
   ],
   "source": [
    "num = int(input());\n",
    "i = 2;\n",
    "isprime = 1;\n",
    "for i in range(2, num):\n",
    "    if(num % i == 0):\n",
    "        isprime = 0\n",
    "        break;\n",
    "if isprime == 0:\n",
    "    print(str(num) + \" is not prime\");\n",
    "else:\n",
    "    print(str(num) + \" is prime\");"
   ]
  },
  {
   "cell_type": "code",
   "execution_count": 1,
   "id": "a022e045",
   "metadata": {},
   "outputs": [
    {
     "name": "stdout",
     "output_type": "stream",
     "text": [
      "10\n",
      "45\n"
     ]
    }
   ],
   "source": [
    "#sum of first n natural nos. using while loop\n",
    "n = int(input());\n",
    "i = 1;\n",
    "sum1 = 0;\n",
    "while i < n:\n",
    "    sum1 = sum1 + i;\n",
    "    i = i + 1;\n",
    "print(sum1);"
   ]
  },
  {
   "cell_type": "code",
   "execution_count": 11,
   "id": "4ac7a72d",
   "metadata": {},
   "outputs": [
    {
     "name": "stdout",
     "output_type": "stream",
     "text": [
      "2\n",
      "The factorial of 2 is 2\n"
     ]
    }
   ],
   "source": [
    "#factorial of a given no\n",
    "n = int(input());\n",
    "f = 1;\n",
    "for i in range(1, n+1):\n",
    "    f = f * i;\n",
    "print(f\"The factorial of {n} is {f}\");"
   ]
  },
  {
   "cell_type": "code",
   "execution_count": 16,
   "id": "9e93f8c4",
   "metadata": {},
   "outputs": [
    {
     "ename": "IndentationError",
     "evalue": "expected an indented block after 'for' statement on line 4 (2050756520.py, line 5)",
     "output_type": "error",
     "traceback": [
      "\u001b[1;36m  Cell \u001b[1;32mIn[16], line 5\u001b[1;36m\u001b[0m\n\u001b[1;33m    {\u001b[0m\n\u001b[1;37m    ^\u001b[0m\n\u001b[1;31mIndentationError\u001b[0m\u001b[1;31m:\u001b[0m expected an indented block after 'for' statement on line 4\n"
     ]
    }
   ],
   "source": [
    "#star pattern 1\n",
    "# n = 3;\n",
    "# for i in range(0, n):\n",
    "#     for j in range(0, n):\n",
    "#     {\n",
    "#         if(j <= i):\n",
    "#             print(\"*\");\n",
    "#     }\n",
    "        "
   ]
  },
  {
   "cell_type": "code",
   "execution_count": 19,
   "id": "53878d8d",
   "metadata": {},
   "outputs": [
    {
     "name": "stdout",
     "output_type": "stream",
     "text": [
      "*  \n",
      "* *  \n",
      "* * *  \n",
      "\n",
      "\n",
      "   *   \n",
      "  ***  \n",
      " ***** \n"
     ]
    }
   ],
   "source": [
    "n = 3;\n",
    "for i in range(1, n+1):\n",
    "    for j in range(0, i):\n",
    "        print(\"*\", end = \" \")\n",
    "    print(\" \")\n",
    "print(\"\\n\")\n",
    "for i in range(n):\n",
    "    print(\" \" * (n - i -1), end = \" \")\n",
    "    print(\"*\" * (2 * i + 1), end = \" \")\n",
    "    print(\" \" * (n - i -1))"
   ]
  },
  {
   "cell_type": "code",
   "execution_count": 15,
   "id": "d3ba467f",
   "metadata": {},
   "outputs": [
    {
     "name": "stdout",
     "output_type": "stream",
     "text": [
      "Hello!!!\n",
      "fact of 3 = 6\n",
      "greatest is  9\n",
      "1 celsius = 33.8\n",
      "sum when n = 5 is 15\n",
      "***\n",
      "**\n",
      "*\n"
     ]
    }
   ],
   "source": [
    "def fun1(): {\n",
    "    print(\"Hello!!!\")\n",
    "}\n",
    "fun1()\n",
    "\n",
    "def fact(n): \n",
    "    if n == 0:\n",
    "        return 1\n",
    "    else:\n",
    "        return fact(n - 1)*n;\n",
    "print(\"fact of 3 =\", fact(3))\n",
    "\n",
    "def greatest(a, b, c):\n",
    "    if(a >= b and a >= c):\n",
    "        return a;\n",
    "    elif(b >= a and b >= c):\n",
    "        return b;\n",
    "    else:\n",
    "        return c;\n",
    "print(\"greatest is \", greatest(1, 9, 5))\n",
    "\n",
    "def celtofar(temp):\n",
    "    return temp * 1.8 + 32\n",
    "print(\"1 celsius =\", celtofar(1))\n",
    "\n",
    "def sumofn(n):\n",
    "    if n <= 1:\n",
    "        return n\n",
    "    else:\n",
    "        return sumofn(n - 1) + n\n",
    "print(\"sum when n = 5 is\", sumofn(5))\n",
    "\n",
    "# def pattern1(n):\n",
    "#     for i in range(0, n):\n",
    "#         j = n - i;\n",
    "#         while(j > 0, end = \"\\n\")\n",
    "#             print(\"*\", end = \" \")\n",
    "#             j  = j - 1\n",
    "# pattern1(3)\n",
    "\n",
    "n = 3\n",
    "for i in range(n):\n",
    "    print(\"*\" * (n-i)) # Prints * n-i times"
   ]
  },
  {
   "cell_type": "code",
   "execution_count": 2,
   "id": "313f13a0",
   "metadata": {},
   "outputs": [
    {
     "ename": "SyntaxError",
     "evalue": "invalid syntax (1759206658.py, line 1)",
     "output_type": "error",
     "traceback": [
      "\u001b[1;36m  Cell \u001b[1;32mIn[2], line 1\u001b[1;36m\u001b[0m\n\u001b[1;33m    deƒ routine(p, q, r, *s, d, e):\u001b[0m\n\u001b[1;37m        ^\u001b[0m\n\u001b[1;31mSyntaxError\u001b[0m\u001b[1;31m:\u001b[0m invalid syntax\n"
     ]
    }
   ],
   "source": [
    "def routine(p, q, r, *s, d, e):\n",
    "    print(p)\n",
    "    print(q)\n",
    "    print(r)\n",
    "    print(s)\n",
    "    print(d)\n",
    "    print(e)\n",
    "\n",
    "routine(\"Super\", \"Robot\", \"Monkey\", \"Team\", \"Hyper\", d = \"Force\", e = \"Go\")"
   ]
  }
 ],
 "metadata": {
  "kernelspec": {
   "display_name": "Python 3 (ipykernel)",
   "language": "python",
   "name": "python3"
  },
  "language_info": {
   "codemirror_mode": {
    "name": "ipython",
    "version": 3
   },
   "file_extension": ".py",
   "mimetype": "text/x-python",
   "name": "python",
   "nbconvert_exporter": "python",
   "pygments_lexer": "ipython3",
   "version": "3.11.0"
  }
 },
 "nbformat": 4,
 "nbformat_minor": 5
}
