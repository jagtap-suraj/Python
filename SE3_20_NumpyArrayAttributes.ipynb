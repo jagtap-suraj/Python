{
 "cells": [
  {
   "cell_type": "code",
   "execution_count": null,
   "id": "428003eb",
   "metadata": {},
   "outputs": [],
   "source": [
    "'''\n",
    "    This notebook has been created to demonstrate various ndarray attributes of the NumPy Library\n",
    "    by Suraj Jagtap\n",
    "'''`"
   ]
  },
  {
   "cell_type": "code",
   "execution_count": 1,
   "id": "2cff7ec3",
   "metadata": {},
   "outputs": [
    {
     "name": "stdout",
     "output_type": "stream",
     "text": [
      "a ndim: 2\n",
      "b ndim: 1\n"
     ]
    }
   ],
   "source": [
    "##ndim example\n",
    "import numpy as np\n",
    "a = np.array([[1, 2], [3, 4]])\n",
    "b = np.array([56, 78])\n",
    "print(\"a ndim:\", a.ndim)\n",
    "print(\"b ndim:\", b.ndim)"
   ]
  },
  {
   "cell_type": "code",
   "execution_count": 2,
   "id": "bfe3d0c8",
   "metadata": {},
   "outputs": [
    {
     "name": "stdout",
     "output_type": "stream",
     "text": [
      "Shape of a: (3, 2)\n",
      "Shape of b: (2, 2)\n"
     ]
    }
   ],
   "source": [
    "#shape example 1\n",
    "a = np.array([[1, 2], [3, 4], [6, 8]])\n",
    "b = np.array([[58, 68], [78, 98]])\n",
    "print(\"Shape of a:\", a.shape)\n",
    "print(\"Shape of b:\", b.shape)"
   ]
  },
  {
   "cell_type": "code",
   "execution_count": 3,
   "id": "00162311",
   "metadata": {},
   "outputs": [
    {
     "name": "stdout",
     "output_type": "stream",
     "text": [
      "Shape of a: (3, 2)\n",
      "Resized shape of a: (2, 3)\n",
      "[[1 2 3]\n",
      " [4 6 8]]\n"
     ]
    }
   ],
   "source": [
    "#shape example 2: using it to resize an array\n",
    "a = np.array([[1, 2], [3, 4], [6, 8]])\n",
    "print(\"Shape of a:\", a.shape)\n",
    "a.shape = (2, 3)\n",
    "print(\"Resized shape of a:\", a.shape)\n",
    "print(a)"
   ]
  },
  {
   "cell_type": "code",
   "execution_count": 4,
   "id": "035e0858",
   "metadata": {},
   "outputs": [
    {
     "name": "stdout",
     "output_type": "stream",
     "text": [
      "Shape of a: (3, 2)\n",
      "b:\n",
      "[[1 2 3]\n",
      " [4 6 8]]\n"
     ]
    }
   ],
   "source": [
    "#shape example 3: using it to resize an array\n",
    "a = np.array([[1, 2], [3, 4], [6, 8]])\n",
    "print(\"Shape of a:\", a.shape)\n",
    "b = a.reshape(2, 3)\n",
    "print(\"b:\")\n",
    "print(b)"
   ]
  },
  {
   "cell_type": "code",
   "execution_count": 5,
   "id": "601e46ae",
   "metadata": {},
   "outputs": [
    {
     "name": "stdout",
     "output_type": "stream",
     "text": [
      "Shape of a: (3, 2) Size of a: 6\n",
      "Shape of b: (3, 2) Size of b: 6\n"
     ]
    }
   ],
   "source": [
    "#size example\n",
    "a = np.array([[1, 2], [3, 4], [6, 8]])\n",
    "b = np.array([[58, 68], [78, 98]])\n",
    "print(\"Shape of a:\", a.shape, \"Size of a:\", a.size)\n",
    "print(\"Shape of b:\", a.shape, \"Size of b:\", a.size)"
   ]
  },
  {
   "cell_type": "code",
   "execution_count": 9,
   "id": "1ea026f1",
   "metadata": {},
   "outputs": [
    {
     "name": "stdout",
     "output_type": "stream",
     "text": [
      "Data type of elements in a: int32\n",
      "Data type of elements in b: float64\n"
     ]
    }
   ],
   "source": [
    "#dtype example\n",
    "a = np.array([[1, 2], [3, 4], [6, 8]])\n",
    "b = np.array([[58.1, 68.2], [78.0, 98]])\n",
    "print(\"Data type of elements in a:\", a.dtype)\n",
    "print(\"Data type of elements in b:\", b.dtype)"
   ]
  },
  {
   "cell_type": "code",
   "execution_count": 6,
   "id": "7b557d58",
   "metadata": {},
   "outputs": [
    {
     "name": "stdout",
     "output_type": "stream",
     "text": [
      "Memory Size of elements in a: 4\n",
      "Memory Size of elements in b: 8\n"
     ]
    }
   ],
   "source": [
    "#itemsize example\n",
    "a = np.array([[1, 2], [3, 4], [6, 8]])\n",
    "b = np.array([[58.1, 68.2], [78.0, 98]])\n",
    "print(\"Memory Size of elements in a:\", a.itemsize)\n",
    "print(\"Memory Size of elements in b:\", b.itemsize)"
   ]
  },
  {
   "cell_type": "code",
   "execution_count": 8,
   "id": "4e38083b",
   "metadata": {},
   "outputs": [
    {
     "name": "stdout",
     "output_type": "stream",
     "text": [
      "Size of elements in a: int8\n",
      "Size of elements in b: float32\n"
     ]
    }
   ],
   "source": [
    "#exampel of modifying the element size uing dtype\n",
    "a = np.array([[1, 2], [3, 4]], dtype = np.int8)\n",
    "b = np.array([58.1, 68.2], dtype = np.float32)\n",
    "print(\"Size of elements in a:\", a.dtype)\n",
    "print(\"Size of elements in b:\", b.dtype)"
   ]
  },
  {
   "cell_type": "code",
   "execution_count": 11,
   "id": "7c4095bc",
   "metadata": {},
   "outputs": [
    {
     "name": "stdout",
     "output_type": "stream",
     "text": [
      "Total Byte Size of a: 24\n",
      "Total Byte Size of b: 32\n"
     ]
    }
   ],
   "source": [
    "#nbytes example\n",
    "a = np.array([[1, 2], [3, 4], [6, 8]])\n",
    "b = np.array([[58.1, 68.2], [78.0, 98]])\n",
    "print(\"Total Byte Size of a:\", a.nbytes)\n",
    "print(\"Total Byte Size of b:\", b.nbytes)"
   ]
  },
  {
   "cell_type": "code",
   "execution_count": 10,
   "id": "b42567e7",
   "metadata": {},
   "outputs": [
    {
     "name": "stdout",
     "output_type": "stream",
     "text": [
      "flags of a: 24\n"
     ]
    }
   ],
   "source": [
    "#flags example\n",
    "a = np.array([[1, 2], [3, 4], [6, 8]])\n",
    "print(\"flags of a:\", a.nbytes)"
   ]
  }
 ],
 "metadata": {
  "kernelspec": {
   "display_name": "Python 3 (ipykernel)",
   "language": "python",
   "name": "python3"
  },
  "language_info": {
   "codemirror_mode": {
    "name": "ipython",
    "version": 3
   },
   "file_extension": ".py",
   "mimetype": "text/x-python",
   "name": "python",
   "nbconvert_exporter": "python",
   "pygments_lexer": "ipython3",
   "version": "3.11.0"
  }
 },
 "nbformat": 4,
 "nbformat_minor": 5
}
