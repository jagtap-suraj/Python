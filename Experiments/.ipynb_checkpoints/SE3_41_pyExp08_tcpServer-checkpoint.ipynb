{
 "cells": [
  {
   "cell_type": "code",
   "execution_count": 2,
   "id": "f4a91d62",
   "metadata": {},
   "outputs": [
    {
     "name": "stdout",
     "output_type": "stream",
     "text": [
      "Got connection from ('127.0.0.1', 54141)\n"
     ]
    }
   ],
   "source": [
    "# SE-3, 41, Kunal Patil\n",
    "\"\"\"Write a python program to create sockets for information exchange \n",
    "between the client and server.\"\"\"\n",
    "\n",
    "# TCP/IP server that sends messages to client\n",
    "\n",
    "import socket               # Import socket module\n",
    "\n",
    "s = socket.socket()         # Create a socket object\n",
    "host = 'localhost'          \n",
    "port = 12345                # Reserve a port for your service.\n",
    "s.bind((host, port))        # Bind to the port\n",
    "\n",
    "s.listen(5)                 # Now wait for client connection.\n",
    "\n",
    "c, addr = s.accept()     # Establish connection with client.\n",
    "print('Got connection from', addr)\n",
    "c.send(b'Hello client, How are you')\n",
    "msg='Bye!'\n",
    "c.send(msg.encode())\n",
    "\n",
    "c.close()                # Close the connection"
   ]
  }
 ],
 "metadata": {
  "kernelspec": {
   "display_name": "Python 3 (ipykernel)",
   "language": "python",
   "name": "python3"
  },
  "language_info": {
   "codemirror_mode": {
    "name": "ipython",
    "version": 3
   },
   "file_extension": ".py",
   "mimetype": "text/x-python",
   "name": "python",
   "nbconvert_exporter": "python",
   "pygments_lexer": "ipython3",
   "version": "3.11.0"
  }
 },
 "nbformat": 4,
 "nbformat_minor": 5
}
