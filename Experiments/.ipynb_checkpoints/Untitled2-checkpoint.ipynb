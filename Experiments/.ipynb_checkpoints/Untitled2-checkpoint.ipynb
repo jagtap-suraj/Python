{
 "cells": [
  {
   "cell_type": "code",
   "execution_count": null,
   "id": "97ffb54d",
   "metadata": {},
   "outputs": [],
   "source": [
    "#TCP/IP Client that recieves messages from server\n",
    "\n",
    "import socket               # Import socket module\n",
    "\n",
    "s = socket.socket(socket.AF_INET, socket.SOCK_STREAM)         # Create a socket object\n",
    "host = 'localhost'          \n",
    "port = 12345                # Reserve a port for your service.\n",
    "\n",
    "s.connect((host, port))\n",
    "msg=s.recv(1024)\n",
    "\n",
    "#Repeat as long as mesage strings are not empty\n",
    "while msg:\n",
    "    print('Recieved: '+msg.decode())\n",
    "    msg=s.recv(1024)\n",
    "s.close()                    # Close the socket when done"
   ]
  }
 ],
 "metadata": {
  "kernelspec": {
   "display_name": "Python 3 (ipykernel)",
   "language": "python",
   "name": "python3"
  },
  "language_info": {
   "codemirror_mode": {
    "name": "ipython",
    "version": 3
   },
   "file_extension": ".py",
   "mimetype": "text/x-python",
   "name": "python",
   "nbconvert_exporter": "python",
   "pygments_lexer": "ipython3",
   "version": "3.11.0"
  }
 },
 "nbformat": 4,
 "nbformat_minor": 5
}
