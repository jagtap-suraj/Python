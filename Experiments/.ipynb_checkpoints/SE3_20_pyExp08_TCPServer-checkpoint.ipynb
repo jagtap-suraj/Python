{
 "cells": [
  {
   "cell_type": "code",
   "execution_count": 1,
   "id": "f4a91d62",
   "metadata": {},
   "outputs": [
    {
     "ename": "OSError",
     "evalue": "[WinError 10048] Only one usage of each socket address (protocol/network address/port) is normally permitted",
     "output_type": "error",
     "traceback": [
      "\u001b[1;31m---------------------------------------------------------------------------\u001b[0m",
      "\u001b[1;31mOSError\u001b[0m                                   Traceback (most recent call last)",
      "Cell \u001b[1;32mIn[1], line 22\u001b[0m\n\u001b[0;32m     19\u001b[0m     c\u001b[38;5;241m.\u001b[39mclose()                \u001b[38;5;66;03m# Close the connection\u001b[39;00m\n\u001b[0;32m     21\u001b[0m \u001b[38;5;28;01mif\u001b[39;00m \u001b[38;5;18m__name__\u001b[39m \u001b[38;5;241m==\u001b[39m \u001b[38;5;124m'\u001b[39m\u001b[38;5;124m__main__\u001b[39m\u001b[38;5;124m'\u001b[39m:\n\u001b[1;32m---> 22\u001b[0m     \u001b[43mtcpServer\u001b[49m\u001b[43m(\u001b[49m\u001b[43m)\u001b[49m\n",
      "Cell \u001b[1;32mIn[1], line 9\u001b[0m, in \u001b[0;36mtcpServer\u001b[1;34m()\u001b[0m\n\u001b[0;32m      7\u001b[0m host \u001b[38;5;241m=\u001b[39m \u001b[38;5;124m'\u001b[39m\u001b[38;5;124mlocalhost\u001b[39m\u001b[38;5;124m'\u001b[39m          \n\u001b[0;32m      8\u001b[0m port \u001b[38;5;241m=\u001b[39m \u001b[38;5;241m12349\u001b[39m                \u001b[38;5;66;03m# Reserve a port for your service.\u001b[39;00m\n\u001b[1;32m----> 9\u001b[0m \u001b[43ms\u001b[49m\u001b[38;5;241;43m.\u001b[39;49m\u001b[43mbind\u001b[49m\u001b[43m(\u001b[49m\u001b[43m(\u001b[49m\u001b[43mhost\u001b[49m\u001b[43m,\u001b[49m\u001b[43m \u001b[49m\u001b[43mport\u001b[49m\u001b[43m)\u001b[49m\u001b[43m)\u001b[49m        \u001b[38;5;66;03m# Bind to the port\u001b[39;00m\n\u001b[0;32m     11\u001b[0m s\u001b[38;5;241m.\u001b[39mlisten(\u001b[38;5;241m5\u001b[39m)                 \u001b[38;5;66;03m# Now wait for client connection.\u001b[39;00m\n\u001b[0;32m     13\u001b[0m c, addr \u001b[38;5;241m=\u001b[39m s\u001b[38;5;241m.\u001b[39maccept()     \u001b[38;5;66;03m# Establish connection with client.\u001b[39;00m\n",
      "\u001b[1;31mOSError\u001b[0m: [WinError 10048] Only one usage of each socket address (protocol/network address/port) is normally permitted"
     ]
    }
   ],
   "source": [
    "# SE-3, 20, Suraj Jagtap\n",
    "# Write a python program to create sockets for information exchange between the client and server.\n",
    "\n",
    "# TCP/IP server that sends messages to client\n",
    "\n",
    "import socket               # Import socket module\n",
    "\n",
    "def tcpServer():\n",
    "    s = socket.socket()         # Create a socket object\n",
    "    host = 'localhost'          \n",
    "    port = 12350                # Reserve a port for your service.\n",
    "    s.bind((host, port))        # Bind to the port\n",
    "\n",
    "    s.listen(5)                 # Now wait for client connection.\n",
    "\n",
    "    c, addr = s.accept()     # Establish connection with client.\n",
    "    print('Got connection from', addr)\n",
    "    c.send(b'Hello client, How are you')\n",
    "    msg='Bye!'\n",
    "    c.send(msg.encode())\n",
    "\n",
    "    c.close()                # Close the connection\n",
    "\n",
    "if __name__ == '__main__':\n",
    "    tcpServer()"
   ]
  }
 ],
 "metadata": {
  "kernelspec": {
   "display_name": "Python 3 (ipykernel)",
   "language": "python",
   "name": "python3"
  },
  "language_info": {
   "codemirror_mode": {
    "name": "ipython",
    "version": 3
   },
   "file_extension": ".py",
   "mimetype": "text/x-python",
   "name": "python",
   "nbconvert_exporter": "python",
   "pygments_lexer": "ipython3",
   "version": "3.11.0"
  }
 },
 "nbformat": 4,
 "nbformat_minor": 5
}
