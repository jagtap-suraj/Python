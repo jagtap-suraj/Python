{
 "cells": [
  {
   "cell_type": "code",
   "execution_count": 1,
   "id": "10330388",
   "metadata": {},
   "outputs": [
    {
     "name": "stdout",
     "output_type": "stream",
     "text": [
      "Hello World\n"
     ]
    }
   ],
   "source": [
    "print(\"Hello World\")"
   ]
  },
  {
   "cell_type": "code",
   "execution_count": 1,
   "id": "117d78cf",
   "metadata": {},
   "outputs": [
    {
     "name": "stdout",
     "output_type": "stream",
     "text": [
      "10\n"
     ]
    }
   ],
   "source": [
    "a = 10\n",
    "print(a)"
   ]
  },
  {
   "cell_type": "code",
   "execution_count": 1,
   "id": "3178239e",
   "metadata": {},
   "outputs": [
    {
     "name": "stdout",
     "output_type": "stream",
     "text": [
      "15\n"
     ]
    }
   ],
   "source": [
    "a = 10\n",
    "b = 5\n",
    "print(a+b)"
   ]
  },
  {
   "cell_type": "markdown",
   "id": "d660863a",
   "metadata": {},
   "source": [
    "# hello people\n",
    "# This is a mardown cell\n",
    "idek\n",
    "- a\n",
    "- b\n",
    "- c"
   ]
  },
  {
   "cell_type": "markdown",
   "id": "eb76935d",
   "metadata": {},
   "source": [
    "a = 10;\n",
    "b = 5;\n",
    "print(a-b);"
   ]
  },
  {
   "cell_type": "code",
   "execution_count": 7,
   "id": "b928d13a",
   "metadata": {},
   "outputs": [],
   "source": [
    "import os"
   ]
  },
  {
   "cell_type": "code",
   "execution_count": 8,
   "id": "e4680ae7",
   "metadata": {},
   "outputs": [
    {
     "name": "stdout",
     "output_type": "stream",
     "text": [
      "['.ipynb_checkpoints', 'First.ipynb', 'HelloWorld.py']\n"
     ]
    }
   ],
   "source": [
    "print(os.listdir())"
   ]
  },
  {
   "cell_type": "code",
   "execution_count": 10,
   "id": "6bc4308b",
   "metadata": {},
   "outputs": [
    {
     "name": "stdout",
     "output_type": "stream",
     "text": [
      "<class 'int'>\n"
     ]
    }
   ],
   "source": [
    "a = 10;\n",
    "print(type(a));"
   ]
  },
  {
   "cell_type": "code",
   "execution_count": 14,
   "id": "40a5a05a",
   "metadata": {},
   "outputs": [
    {
     "name": "stdout",
     "output_type": "stream",
     "text": [
      "Enter name: suraj\n",
      "Your name is suraj\n"
     ]
    }
   ],
   "source": [
    "a = input(\"Enter name: \")\n",
    "print(\"Your name is \" + a)"
   ]
  },
  {
   "cell_type": "code",
   "execution_count": 19,
   "id": "79530a44",
   "metadata": {},
   "outputs": [
    {
     "name": "stdout",
     "output_type": "stream",
     "text": [
      "Enter Anything: 12\n",
      "<class 'int'>\n"
     ]
    }
   ],
   "source": [
    "a = input(\"Enter Anything: \");\n",
    "a = int(a);\n",
    "print(type(a));\n",
    "print(\"The type of the variable is \" + type(a));"
   ]
  },
  {
   "cell_type": "code",
   "execution_count": 26,
   "id": "0d98c6a5",
   "metadata": {},
   "outputs": [
    {
     "name": "stdout",
     "output_type": "stream",
     "text": [
      "Enter a number: 30\n",
      "Enter a number: 10\n",
      "The type of a is  <class 'int'>\n",
      "30 is greater than 10\n"
     ]
    }
   ],
   "source": [
    "a = int(input(\"Enter a number: \"));\n",
    "b = int(input(\"Enter a number: \"));\n",
    "print(\"The type of a is \", type(a));\n",
    "if (a > b): print(a, \"is greater than\", b);\n",
    "elif(a < b): print(b, \"is greater than\", a);\n",
    "else: print(\"Both\", a,  \"&\", b, \"are equal\");"
   ]
  },
  {
   "cell_type": "code",
   "execution_count": 46,
   "id": "14b2e011",
   "metadata": {},
   "outputs": [
    {
     "name": "stdout",
     "output_type": "stream",
     "text": [
      "sur\n",
      "srj\n",
      "5\n",
      "True\n",
      "1\n",
      "Suraj\n",
      "3\n",
      "sooraj\n"
     ]
    }
   ],
   "source": [
    "st = \"suraj\";\n",
    "print(st[0 : 3]);\n",
    "print(st[0 : 5 : 2]);\n",
    "print(len(st));\n",
    "print(st.endswith(\"raj\"));\n",
    "print(st.count(\"a\"));\n",
    "print(st.capitalize());\n",
    "print(st.find(\"a\"));\n",
    "print(st.replace(\"u\", \"oo\"));"
   ]
  },
  {
   "cell_type": "code",
   "execution_count": 48,
   "id": "f36cd35d",
   "metadata": {},
   "outputs": [
    {
     "name": "stdout",
     "output_type": "stream",
     "text": [
      "Enter a name: Suraj\n",
      "Suraj Good Afternoon\n"
     ]
    }
   ],
   "source": [
    "print(input(\"Enter a name: \"), \"Good Afternoon\");"
   ]
  },
  {
   "cell_type": "code",
   "execution_count": 57,
   "id": "e6e80f1e",
   "metadata": {},
   "outputs": [
    {
     "name": "stdout",
     "output_type": "stream",
     "text": [
      "Enter the name: Suraj\n",
      "Enter the date: 30 Feb 2022\n",
      "Dear Suraj,\n",
      "You are selected\n",
      "30 Feb 2022\n",
      "\n"
     ]
    }
   ],
   "source": [
    "letter = '''Dear <|Name|>,\n",
    "You are selected\n",
    "<|Date|>\n",
    "'''\n",
    "name = input(\"Enter the name: \")\n",
    "date = input(\"Enter the date: \")\n",
    "letter = letter.replace(\"<|Name|>\", name)\n",
    "letter = letter.replace(\"<|Date|>\", date)\n",
    "print(letter)\n",
    "\n",
    "# letter = '''Dear <|NAME|>,\n",
    "# Greetings from ABC coding house. I am happy to tell you about your selection\n",
    "# You are selected!\n",
    "# Have a great day ahead!\n",
    "# Thanks and regards,\n",
    "# Bill\n",
    "# Date: <|DATE|>\n",
    "# '''\n",
    "# name = input(\"Enter Your Name\\n\")\n",
    "# date = input(\"Enter Date\\n\")\n",
    "# letter = letter.replace(\"<|NAME|>\", name)\n",
    "# letter = letter.replace(\"<|DATE|>\", date)\n",
    "# print(letter)"
   ]
  },
  {
   "cell_type": "code",
   "execution_count": 58,
   "id": "88fa70ab",
   "metadata": {},
   "outputs": [
    {
     "name": "stdout",
     "output_type": "stream",
     "text": [
      "Harry is good.\n",
      "He\tis ve\\ry good\n"
     ]
    }
   ],
   "source": [
    "story = \"Harry is good.\\nHe\\tis ve\\\\ry good\"\n",
    "print(story)"
   ]
  },
  {
   "cell_type": "code",
   "execution_count": null,
   "id": "f7c809c4",
   "metadata": {},
   "outputs": [],
   "source": [
    "fruits = [a, b, c, d, e, f, g];\n",
    "a = input(\"First: \");\n",
    "b = input(\"Second: \");\n",
    "c = input(\"Third: \");\n",
    "d = input(\"Fourth: \");\n",
    "e = input(\"Fifth: \");\n",
    "f = input(\"Sixth: \");\n",
    "g = input(\"Seventh: \");\n",
    "fruits.replace(a) = "
   ]
  },
  {
   "cell_type": "code",
   "execution_count": 3,
   "id": "813065b2",
   "metadata": {},
   "outputs": [
    {
     "name": "stdout",
     "output_type": "stream",
     "text": [
      "Enter the marks of six students: \n",
      "9\n",
      "8\n",
      "7\n",
      "6\n",
      "5\n",
      "4\n",
      "[4, 5, 6, 7, 8, 9]\n"
     ]
    }
   ],
   "source": [
    "print(\"Enter the marks of six students: \");\n",
    "a = int(input());\n",
    "b = int(input());\n",
    "c = int(input());\n",
    "d = int(input());\n",
    "e = int(input());\n",
    "f = int(input());\n",
    "student = [a, b, c, d, e, f];\n",
    "student.sort()\n",
    "print(student);"
   ]
  },
  {
   "cell_type": "code",
   "execution_count": 33,
   "id": "ff8c28bc",
   "metadata": {},
   "outputs": [
    {
     "name": "stdout",
     "output_type": "stream",
     "text": [
      "Player\n",
      "['name', 'age', 'branch', 'marks', 'anotherdict']\n",
      "dict_values(['suraj', 19, 'comps', [1, 2, 3, 4], {'type': 'Player'}])\n",
      "Player\n",
      "{'name': 'suraj', 'age': 19, 'branch': 'comps', 'marks': [1, 2, 3, 4], 'anotherdict': {'type': 'Player'}}\n",
      "comps\n"
     ]
    }
   ],
   "source": [
    "a = {\n",
    "    \"name\": \"suraj\",\n",
    "    \"age\": 19,\n",
    "    \"branch\": \"comps\",\n",
    "    \"marks\": [1, 2, 3, 4],\n",
    "    \"anotherdict\": {'type': 'Player'},\n",
    "}\n",
    "print(a[\"anotherdict\"][\"type\"]);\n",
    "print(list(a.keys()));\n",
    "print(a.values());\n",
    "print(a['anotherdict']['type']);\n",
    "print(a);\n",
    "print(a.get(\"branch\"));"
   ]
  },
  {
   "cell_type": "code",
   "execution_count": 38,
   "id": "6811ddaf",
   "metadata": {},
   "outputs": [
    {
     "name": "stdout",
     "output_type": "stream",
     "text": [
      "<class 'set'>\n",
      "<class 'dict'>\n",
      "<class 'set'>\n"
     ]
    }
   ],
   "source": [
    "a = {1, 2, 3, 4};\n",
    "print(type(a));\n",
    "b = {};\n",
    "print(type(b));\n",
    "c = set();\n",
    "print(type(c));"
   ]
  },
  {
   "cell_type": "code",
   "execution_count": 67,
   "id": "581353aa",
   "metadata": {},
   "outputs": [
    {
     "name": "stdout",
     "output_type": "stream",
     "text": [
      "<class 'set'>\n",
      "{1, 2, 3, 4}\n",
      "4\n",
      "{1, 2, 3, 4, (5, 6, 7, 8)}\n",
      "5\n",
      "{1, 3, 4, (5, 6, 7, 8)}\n",
      "{3, 4, (5, 6, 7, 8)}\n"
     ]
    }
   ],
   "source": [
    "b = set();\n",
    "print(type(b));\n",
    "b.add(1);\n",
    "b.add(2);\n",
    "b.add(3);\n",
    "b.add(4);\n",
    "print(b);\n",
    "print(len(b));\n",
    "b.add((5, 6, 7, 8));\n",
    "print(b);\n",
    "print(len(b));\n",
    "b.remove(2);\n",
    "print(b);\n",
    "b.pop();\n",
    "print(b);"
   ]
  }
 ],
 "metadata": {
  "kernelspec": {
   "display_name": "Python 3 (ipykernel)",
   "language": "python",
   "name": "python3"
  },
  "language_info": {
   "codemirror_mode": {
    "name": "ipython",
    "version": 3
   },
   "file_extension": ".py",
   "mimetype": "text/x-python",
   "name": "python",
   "nbconvert_exporter": "python",
   "pygments_lexer": "ipython3",
   "version": "3.11.0"
  }
 },
 "nbformat": 4,
 "nbformat_minor": 5
}
